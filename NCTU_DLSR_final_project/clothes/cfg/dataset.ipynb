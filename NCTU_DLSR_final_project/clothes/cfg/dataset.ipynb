{
 "cells": [
  {
   "cell_type": "code",
   "execution_count": 1,
   "metadata": {},
   "outputs": [],
   "source": [
    "import os\n",
    "import glob\n",
    "import numpy as np\n",
    "import time"
   ]
  },
  {
   "cell_type": "code",
   "execution_count": 2,
   "metadata": {},
   "outputs": [
    {
     "name": "stdout",
     "output_type": "stream",
     "text": [
      "['/home/ctsun/Data/01_work/04_DL_LAB/CLOTHES-2/CLOTHES/yolov3/dataCLOTHES/train/images/838.jpg', '/home/ctsun/Data/01_work/04_DL_LAB/CLOTHES-2/CLOTHES/yolov3/dataCLOTHES/train/images/1869.jpg', '/home/ctsun/Data/01_work/04_DL_LAB/CLOTHES-2/CLOTHES/yolov3/dataCLOTHES/train/images/679.jpg', '/home/ctsun/Data/01_work/04_DL_LAB/CLOTHES-2/CLOTHES/yolov3/dataCLOTHES/train/images/1720.jpg', '/home/ctsun/Data/01_work/04_DL_LAB/CLOTHES-2/CLOTHES/yolov3/dataCLOTHES/train/images/748.jpg', '/home/ctsun/Data/01_work/04_DL_LAB/CLOTHES-2/CLOTHES/yolov3/dataCLOTHES/train/images/437.jpg', '/home/ctsun/Data/01_work/04_DL_LAB/CLOTHES-2/CLOTHES/yolov3/dataCLOTHES/train/images/580.jpg', '/home/ctsun/Data/01_work/04_DL_LAB/CLOTHES-2/CLOTHES/yolov3/dataCLOTHES/train/images/963.jpg', '/home/ctsun/Data/01_work/04_DL_LAB/CLOTHES-2/CLOTHES/yolov3/dataCLOTHES/train/images/57.jpg', '/home/ctsun/Data/01_work/04_DL_LAB/CLOTHES-2/CLOTHES/yolov3/dataCLOTHES/train/images/764.jpg']\n"
     ]
    }
   ],
   "source": [
    "#images_dir = \"/tmp/dataset-nctu/clothes/train/images\"\n",
    "images_dir = \"/home/ctsun/Data/01_work/04_DL_LAB/CLOTHES-2/CLOTHES/yolov3/dataCLOTHES/train/images\"\n",
    "filenames = glob.glob('{}/*.jpg'.format(images_dir))\n",
    "print(filenames[:10])\n",
    "#filenames = filenames[:30]\n",
    "\n",
    "# k-fold cross-validation \n",
    "K=10\n",
    "valid_size=1.0/K\n",
    "num_train = len(filenames)\n",
    "indices = list(range(num_train))\n",
    "split = int(np.floor(valid_size * num_train))\n",
    "\n",
    "#random_seed=int(time.time())\n",
    "random_seed=7\n",
    "np.random.seed(random_seed)\n",
    "np.random.shuffle(indices)\n",
    "#print(indices)\n",
    "    \n",
    "for k in range(K):\n",
    "    valid_idx = indices[k*split:(k+1)*split]\n",
    "    train_idx = indices[:]\n",
    "    del train_idx[k*split:(k+1)*split]\n",
    "    \n",
    "    list_file_train = open('train_{}.txt'.format(k), 'w')\n",
    "    for i in train_idx:\n",
    "        list_file_train.write('%s\\n'%(filenames[i]))\n",
    "    list_file_train.close()\n",
    "    \n",
    "    list_file_valid = open('valid_{}.txt'.format(k), 'w')\n",
    "    for i in valid_idx:\n",
    "        list_file_valid.write('%s\\n'%(filenames[i]))\n",
    "    list_file_valid.close()"
   ]
  },
  {
   "cell_type": "code",
   "execution_count": 3,
   "metadata": {},
   "outputs": [
    {
     "name": "stdout",
     "output_type": "stream",
     "text": [
      "[]\n"
     ]
    }
   ],
   "source": [
    "#images_dir = \"/tmp/dataset-nctu/clothes/train/images\"\n",
    "#dataset_dir = \"/home/ctsun/Data/01_work/04_DL_LAB/CLOTHES-2/CLOTHES/yolov3/dataCLOTHES\"\n",
    "dataset_dir = \"/home/ctsun/Data/01_work/04_DL_LAB/CLOTHES-2/CLOTHES_FINAL\"\n",
    "\n",
    "train_filenames = glob.glob('{}/train/images/*.jpg'.format(dataset_dir))\n",
    "test_filenames = glob.glob('{}/test/images/*.jpg'.format(dataset_dir))\n",
    "print(train_filenames[:10])\n",
    "\n",
    "num_train = len(train_filenames)\n",
    "num_test = len(test_filenames)\n",
    "indices_train = list(range(num_train))\n",
    "indices_test = list(range(num_test))\n",
    "\n",
    "   \n",
    "list_file_train = open('train.txt', 'w')\n",
    "for i in indices_train:\n",
    "    list_file_train.write('%s\\n'%(train_filenames[i]))\n",
    "list_file_train.close()\n",
    "\n",
    "list_file_valid = open('valid.txt', 'w')\n",
    "for i in indices_test:\n",
    "    list_file_valid.write('%s\\n'%(test_filenames[i]))\n",
    "list_file_valid.close()"
   ]
  },
  {
   "cell_type": "code",
   "execution_count": null,
   "metadata": {},
   "outputs": [],
   "source": []
  }
 ],
 "metadata": {
  "kernelspec": {
   "display_name": "Python 3",
   "language": "python",
   "name": "python3"
  },
  "language_info": {
   "codemirror_mode": {
    "name": "ipython",
    "version": 3
   },
   "file_extension": ".py",
   "mimetype": "text/x-python",
   "name": "python",
   "nbconvert_exporter": "python",
   "pygments_lexer": "ipython3",
   "version": "3.6.6"
  }
 },
 "nbformat": 4,
 "nbformat_minor": 2
}
